{
 "cells": [
  {
   "cell_type": "code",
   "execution_count": 1,
   "metadata": {},
   "outputs": [],
   "source": [
    "import pandas as pd\n",
    "import numpy as np\n",
    "%matplotlib inline\n",
    "import matplotlib.pyplot as plt"
   ]
  },
  {
   "cell_type": "code",
   "execution_count": 3,
   "metadata": {},
   "outputs": [],
   "source": [
    "'''This module creates different graphs using adjacency lists \n",
    "and computes their respective in-degrees and degree distribution.\n",
    "These adjency lists are represented by a dictionaries\n",
    "where keys represent nodes and and values represent neighbors'''\n",
    "\n",
    "EX_GRAPH0 = {0: set([1,2]),\n",
    "             1: set([]),\n",
    "             2: set([])}\n",
    "\n",
    "EX_GRAPH1 = {0: set([1,4,5]),\n",
    "             1: set([2,6]),\n",
    "             2: set([3]),\n",
    "             3: set([0]),\n",
    "             4: set([1]),\n",
    "             5: set([2]),\n",
    "             6: set([])}\n",
    "\n",
    "EX_GRAPH2 = {0: set([1,4,5]),\n",
    "             1: set([2,6]),\n",
    "             2: set([3,7]),\n",
    "             3: set([7]),\n",
    "             4: set([1]),\n",
    "             5: set([2]),\n",
    "             6: set([]),\n",
    "             7: set([3]),\n",
    "             8: set([1,2]),\n",
    "             9: set([0,3,4,5,6,7])}"
   ]
  },
  {
   "cell_type": "code",
   "execution_count": 11,
   "metadata": {},
   "outputs": [
    {
     "data": {
      "text/plain": [
       "10"
      ]
     },
     "execution_count": 11,
     "metadata": {},
     "output_type": "execute_result"
    }
   ],
   "source": [
    "len(EX_GRAPH2)"
   ]
  },
  {
   "cell_type": "code",
   "execution_count": 5,
   "metadata": {},
   "outputs": [],
   "source": [
    "def make_complete_graph(num_nodes):\n",
    "    '''Takes the number of nodes num_nodes and returns a dictionary\n",
    "    corresponding to a complete directed graph with the specified number of nodes.'''\n",
    "    graph = {}\n",
    "    while num_nodes > 0:\n",
    "        for node in range(num_nodes):\n",
    "            graph[node] = set([neighbor for neighbor in range(num_nodes) if neighbor != node])\n",
    "    return graph\n",
    "        "
   ]
  },
  {
   "cell_type": "code",
   "execution_count": 8,
   "metadata": {},
   "outputs": [],
   "source": [
    "def compute_in_degree(digraph):\n",
    "    '''Takes a directed graph (digraph) (represented as a dictionary) and computes the in-degrees\n",
    "    for the nodes in the graph. The function returns a dictionary with the same set of keys (nodes)\n",
    "    as digraph whose corresponding values are the number of edges whose head matches a particular node.'''\n",
    "    \n",
    "    indegrees = {}\n",
    "    nodes = list(digraph.keys())\n",
    "    for node in nodes:\n",
    "        edge_counter = 0\n",
    "        for key, value in digraph.items():\n",
    "            if key != node and node in value:\n",
    "                edge_counter+=1\n",
    "        indegrees[node] = edge_counter\n",
    "    return indegrees\n",
    "        "
   ]
  },
  {
   "cell_type": "code",
   "execution_count": 15,
   "metadata": {},
   "outputs": [],
   "source": [
    "def in_degree_distribution(digraph):\n",
    "    '''Takes a directed graph digraph (represented as a dictionary) and computes the \n",
    "    unnormalized distribution of the in-degrees of the graph. The function returns a dictionary whose keys\n",
    "    correspond to in-degrees of nodes in the graph. The value associated with each particular in-degree \n",
    "    is the number of nodes with that in-degree. In-degrees with no corresponding nodes in the graph are not included\n",
    "    in the dictionary.'''\n",
    "    \n",
    "    in_degree_dist = {}\n",
    "    in_degree_dict = compute_in_degree(digraph)\n",
    "    \n",
    "    for item in range(1,len(digraph)):\n",
    "        num_nodes = 0\n",
    "        for key, value in in_degree_dict.items():\n",
    "            if item == value:\n",
    "                num_nodes+=1\n",
    "        if num_nodes == 0:\n",
    "            continue\n",
    "        else:\n",
    "            in_degree_dist[item] = num_nodes\n",
    "    return in_degree_dist\n",
    "                \n",
    "    "
   ]
  },
  {
   "cell_type": "code",
   "execution_count": 13,
   "metadata": {},
   "outputs": [
    {
     "data": {
      "text/plain": [
       "{0: 1, 1: 3, 2: 3, 3: 3, 4: 2, 5: 2, 6: 2, 7: 3, 8: 0, 9: 0}"
      ]
     },
     "execution_count": 13,
     "metadata": {},
     "output_type": "execute_result"
    }
   ],
   "source": [
    "compute_in_degree(EX_GRAPH2)"
   ]
  },
  {
   "cell_type": "code",
   "execution_count": 16,
   "metadata": {},
   "outputs": [
    {
     "data": {
      "text/plain": [
       "{1: 1, 2: 3, 3: 4}"
      ]
     },
     "execution_count": 16,
     "metadata": {},
     "output_type": "execute_result"
    }
   ],
   "source": [
    "in_degree_distribution(EX_GRAPH2)"
   ]
  },
  {
   "cell_type": "code",
   "execution_count": null,
   "metadata": {},
   "outputs": [],
   "source": []
  }
 ],
 "metadata": {
  "kernelspec": {
   "display_name": "Python 3",
   "language": "python",
   "name": "python3"
  },
  "language_info": {
   "codemirror_mode": {
    "name": "ipython",
    "version": 3
   },
   "file_extension": ".py",
   "mimetype": "text/x-python",
   "name": "python",
   "nbconvert_exporter": "python",
   "pygments_lexer": "ipython3",
   "version": "3.6.5"
  }
 },
 "nbformat": 4,
 "nbformat_minor": 2
}
